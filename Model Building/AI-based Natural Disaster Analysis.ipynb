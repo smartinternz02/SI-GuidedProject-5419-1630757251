{
 "cells": [
  {
   "cell_type": "markdown",
   "metadata": {},
   "source": [
    "### Importing Data"
   ]
  },
  {
   "cell_type": "code",
   "execution_count": 1,
   "metadata": {},
   "outputs": [],
   "source": [
    "import numpy as np\n",
    "import pandas as pd\n",
    "\n",
    "#Importing all layers\n",
    "from tensorflow.keras.models import Sequential\n",
    "from tensorflow.keras.layers import Dense, Convolution2D, MaxPooling2D, Flatten "
   ]
  },
  {
   "cell_type": "code",
   "execution_count": 2,
   "metadata": {},
   "outputs": [],
   "source": [
    "from tensorflow.keras.preprocessing.image import ImageDataGenerator"
   ]
  },
  {
   "cell_type": "markdown",
   "metadata": {},
   "source": [
    "### Applying ImageDataGenerator"
   ]
  },
  {
   "cell_type": "code",
   "execution_count": 3,
   "metadata": {},
   "outputs": [],
   "source": [
    "train_datagen = ImageDataGenerator(rescale=1./255, shear_range=0.2, zoom_range=0.2, horizontal_flip= True)\n",
    "test_datagen = ImageDataGenerator(rescale=1./255)"
   ]
  },
  {
   "cell_type": "code",
   "execution_count": 4,
   "metadata": {},
   "outputs": [
    {
     "name": "stdout",
     "output_type": "stream",
     "text": [
      "Found 742 images belonging to 4 classes.\n",
      "Found 198 images belonging to 4 classes.\n"
     ]
    }
   ],
   "source": [
    "x_train = train_datagen.flow_from_directory(r\"C:\\Externship\\Project\\Disaster Dataset\\train_set\", target_size=(64,64), \n",
    "                                            batch_size=32, class_mode= \"categorical\")\n",
    "x_test = test_datagen.flow_from_directory(r\"C:\\Externship\\Project\\Disaster Dataset\\test_set\", target_size=(64,64), \n",
    "                                            batch_size=32, class_mode= \"categorical\")"
   ]
  },
  {
   "cell_type": "markdown",
   "metadata": {},
   "source": [
    "### Creating CNN"
   ]
  },
  {
   "cell_type": "code",
   "execution_count": 5,
   "metadata": {},
   "outputs": [],
   "source": [
    "cnn = Sequential()"
   ]
  },
  {
   "cell_type": "code",
   "execution_count": 6,
   "metadata": {},
   "outputs": [],
   "source": [
    "cnn.add(Convolution2D(32, (3,3), input_shape=(64,64,3)))"
   ]
  },
  {
   "cell_type": "code",
   "execution_count": 7,
   "metadata": {},
   "outputs": [],
   "source": [
    "cnn.add(MaxPooling2D((2,2)))\n",
    "cnn.add(Flatten())\n",
    "cnn.add(Dense(units=128, kernel_initializer=\"random_uniform\", activation=\"relu\"))"
   ]
  },
  {
   "cell_type": "markdown",
   "metadata": {},
   "source": [
    "### Adding Input, Hidden and Output"
   ]
  },
  {
   "cell_type": "code",
   "execution_count": 8,
   "metadata": {},
   "outputs": [],
   "source": [
    "cnn.add(Dense(units=4, kernel_initializer=\"random_uniform\", activation=\"softmax\"))"
   ]
  },
  {
   "cell_type": "code",
   "execution_count": 9,
   "metadata": {},
   "outputs": [],
   "source": [
    "cnn.compile(optimizer=\"rmsprop\", loss=\"categorical_crossentropy\", metrics=[\"accuracy\"])"
   ]
  },
  {
   "cell_type": "code",
   "execution_count": 10,
   "metadata": {
    "scrolled": true
   },
   "outputs": [
    {
     "name": "stdout",
     "output_type": "stream",
     "text": [
      "WARNING:tensorflow:From <ipython-input-10-af86c67abc18>:1: Model.fit_generator (from tensorflow.python.keras.engine.training) is deprecated and will be removed in a future version.\n",
      "Instructions for updating:\n",
      "Please use Model.fit, which supports generators.\n",
      "WARNING:tensorflow:sample_weight modes were coerced from\n",
      "  ...\n",
      "    to  \n",
      "  ['...']\n",
      "WARNING:tensorflow:sample_weight modes were coerced from\n",
      "  ...\n",
      "    to  \n",
      "  ['...']\n",
      "Train for 23.1875 steps, validate for 6.1875 steps\n",
      "Epoch 1/50\n",
      "24/23 [===============================] - 21s 871ms/step - loss: 1.9920 - accuracy: 0.4137 - val_loss: 1.0612 - val_accuracy: 0.7071\n",
      "Epoch 2/50\n",
      "24/23 [===============================] - 21s 861ms/step - loss: 0.9988 - accuracy: 0.5782 - val_loss: 1.4919 - val_accuracy: 0.4798\n",
      "Epoch 3/50\n",
      "24/23 [===============================] - 21s 862ms/step - loss: 0.8608 - accuracy: 0.6604 - val_loss: 1.0428 - val_accuracy: 0.5909\n",
      "Epoch 4/50\n",
      "24/23 [===============================] - 21s 863ms/step - loss: 0.7530 - accuracy: 0.6968 - val_loss: 0.9310 - val_accuracy: 0.6414\n",
      "Epoch 5/50\n",
      "24/23 [===============================] - 21s 867ms/step - loss: 0.6967 - accuracy: 0.7318 - val_loss: 1.1831 - val_accuracy: 0.5657\n",
      "Epoch 6/50\n",
      "24/23 [===============================] - 21s 859ms/step - loss: 0.6545 - accuracy: 0.7547 - val_loss: 0.7572 - val_accuracy: 0.7475\n",
      "Epoch 7/50\n",
      "24/23 [===============================] - 21s 861ms/step - loss: 0.5564 - accuracy: 0.7817 - val_loss: 1.0011 - val_accuracy: 0.6818\n",
      "Epoch 8/50\n",
      "24/23 [===============================] - 21s 861ms/step - loss: 0.5313 - accuracy: 0.8046 - val_loss: 0.7336 - val_accuracy: 0.7778\n",
      "Epoch 9/50\n",
      "24/23 [===============================] - 21s 865ms/step - loss: 0.4759 - accuracy: 0.8275 - val_loss: 0.7989 - val_accuracy: 0.7525\n",
      "Epoch 10/50\n",
      "24/23 [===============================] - 20s 854ms/step - loss: 0.4523 - accuracy: 0.8356 - val_loss: 0.8373 - val_accuracy: 0.7374\n",
      "Epoch 11/50\n",
      "24/23 [===============================] - 21s 858ms/step - loss: 0.4002 - accuracy: 0.8571 - val_loss: 0.7769 - val_accuracy: 0.7727\n",
      "Epoch 12/50\n",
      "24/23 [===============================] - 21s 859ms/step - loss: 0.3479 - accuracy: 0.8774 - val_loss: 1.1213 - val_accuracy: 0.7273\n",
      "Epoch 13/50\n",
      "24/23 [===============================] - 21s 862ms/step - loss: 0.3512 - accuracy: 0.8747 - val_loss: 0.8901 - val_accuracy: 0.7828\n",
      "Epoch 14/50\n",
      "24/23 [===============================] - 21s 865ms/step - loss: 0.3165 - accuracy: 0.8854 - val_loss: 1.0391 - val_accuracy: 0.7323\n",
      "Epoch 15/50\n",
      "24/23 [===============================] - 21s 864ms/step - loss: 0.2720 - accuracy: 0.8935 - val_loss: 0.9562 - val_accuracy: 0.7778\n",
      "Epoch 16/50\n",
      "24/23 [===============================] - 21s 861ms/step - loss: 0.2860 - accuracy: 0.8976 - val_loss: 1.4166 - val_accuracy: 0.6414\n",
      "Epoch 17/50\n",
      "24/23 [===============================] - 21s 862ms/step - loss: 0.2457 - accuracy: 0.9097 - val_loss: 0.9379 - val_accuracy: 0.7525\n",
      "Epoch 18/50\n",
      "24/23 [===============================] - 21s 859ms/step - loss: 0.2374 - accuracy: 0.9016 - val_loss: 1.1038 - val_accuracy: 0.7475\n",
      "Epoch 19/50\n",
      "24/23 [===============================] - 21s 860ms/step - loss: 0.2161 - accuracy: 0.9205 - val_loss: 1.1049 - val_accuracy: 0.7525\n",
      "Epoch 20/50\n",
      "24/23 [===============================] - 21s 859ms/step - loss: 0.1836 - accuracy: 0.9313 - val_loss: 1.0554 - val_accuracy: 0.7374\n",
      "Epoch 21/50\n",
      "24/23 [===============================] - 21s 857ms/step - loss: 0.2461 - accuracy: 0.9124 - val_loss: 1.4156 - val_accuracy: 0.6970\n",
      "Epoch 22/50\n",
      "24/23 [===============================] - 21s 862ms/step - loss: 0.1397 - accuracy: 0.9555 - val_loss: 1.3564 - val_accuracy: 0.7424\n",
      "Epoch 23/50\n",
      "24/23 [===============================] - 21s 862ms/step - loss: 0.1498 - accuracy: 0.9394 - val_loss: 1.5758 - val_accuracy: 0.7273\n",
      "Epoch 24/50\n",
      "24/23 [===============================] - 21s 865ms/step - loss: 0.1487 - accuracy: 0.9447 - val_loss: 1.3276 - val_accuracy: 0.7222\n",
      "Epoch 25/50\n",
      "24/23 [===============================] - 21s 862ms/step - loss: 0.1341 - accuracy: 0.9569 - val_loss: 1.6491 - val_accuracy: 0.6919\n",
      "Epoch 26/50\n",
      "24/23 [===============================] - 21s 862ms/step - loss: 0.1329 - accuracy: 0.9488 - val_loss: 1.2341 - val_accuracy: 0.7879\n",
      "Epoch 27/50\n",
      "24/23 [===============================] - 21s 869ms/step - loss: 0.1497 - accuracy: 0.9434 - val_loss: 1.1941 - val_accuracy: 0.7525\n",
      "Epoch 28/50\n",
      "24/23 [===============================] - 21s 869ms/step - loss: 0.1099 - accuracy: 0.9569 - val_loss: 1.3905 - val_accuracy: 0.7374\n",
      "Epoch 29/50\n",
      "24/23 [===============================] - 21s 859ms/step - loss: 0.1314 - accuracy: 0.9596 - val_loss: 1.6313 - val_accuracy: 0.7374\n",
      "Epoch 30/50\n",
      "24/23 [===============================] - 21s 861ms/step - loss: 0.0706 - accuracy: 0.9771 - val_loss: 1.2236 - val_accuracy: 0.7828\n",
      "Epoch 31/50\n",
      "24/23 [===============================] - 21s 862ms/step - loss: 0.1149 - accuracy: 0.9569 - val_loss: 1.1601 - val_accuracy: 0.7828\n",
      "Epoch 32/50\n",
      "24/23 [===============================] - 21s 855ms/step - loss: 0.0958 - accuracy: 0.9704 - val_loss: 1.6552 - val_accuracy: 0.7172\n",
      "Epoch 33/50\n",
      "24/23 [===============================] - 21s 858ms/step - loss: 0.0797 - accuracy: 0.9757 - val_loss: 1.9246 - val_accuracy: 0.7020\n",
      "Epoch 34/50\n",
      "24/23 [===============================] - 21s 862ms/step - loss: 0.0994 - accuracy: 0.9636 - val_loss: 1.7477 - val_accuracy: 0.6970\n",
      "Epoch 35/50\n",
      "24/23 [===============================] - 21s 857ms/step - loss: 0.0679 - accuracy: 0.9744 - val_loss: 2.0216 - val_accuracy: 0.7071\n",
      "Epoch 36/50\n",
      "24/23 [===============================] - 21s 855ms/step - loss: 0.0715 - accuracy: 0.9771 - val_loss: 1.9537 - val_accuracy: 0.7273\n",
      "Epoch 37/50\n",
      "24/23 [===============================] - 21s 857ms/step - loss: 0.1018 - accuracy: 0.9677 - val_loss: 1.8024 - val_accuracy: 0.7121\n",
      "Epoch 38/50\n",
      "24/23 [===============================] - 21s 859ms/step - loss: 0.0546 - accuracy: 0.9811 - val_loss: 1.8386 - val_accuracy: 0.7020\n",
      "Epoch 39/50\n",
      "24/23 [===============================] - 21s 857ms/step - loss: 0.0563 - accuracy: 0.9838 - val_loss: 1.9014 - val_accuracy: 0.7172\n",
      "Epoch 40/50\n",
      "24/23 [===============================] - 21s 861ms/step - loss: 0.0680 - accuracy: 0.9811 - val_loss: 2.0675 - val_accuracy: 0.6970\n",
      "Epoch 41/50\n",
      "24/23 [===============================] - 21s 865ms/step - loss: 0.0454 - accuracy: 0.9838 - val_loss: 1.8670 - val_accuracy: 0.6970\n",
      "Epoch 42/50\n",
      "24/23 [===============================] - 21s 892ms/step - loss: 0.0710 - accuracy: 0.9704 - val_loss: 1.7023 - val_accuracy: 0.7475\n",
      "Epoch 43/50\n",
      "24/23 [===============================] - 21s 883ms/step - loss: 0.0867 - accuracy: 0.9663 - val_loss: 1.8713 - val_accuracy: 0.7273\n",
      "Epoch 44/50\n",
      "24/23 [===============================] - 21s 862ms/step - loss: 0.0279 - accuracy: 0.9892 - val_loss: 3.2159 - val_accuracy: 0.6515\n",
      "Epoch 45/50\n",
      "24/23 [===============================] - 21s 864ms/step - loss: 0.0461 - accuracy: 0.9865 - val_loss: 1.9364 - val_accuracy: 0.7172\n",
      "Epoch 46/50\n",
      "24/23 [===============================] - 21s 856ms/step - loss: 0.0464 - accuracy: 0.9825 - val_loss: 2.1682 - val_accuracy: 0.6970\n",
      "Epoch 47/50\n",
      "24/23 [===============================] - 21s 865ms/step - loss: 0.0434 - accuracy: 0.9879 - val_loss: 1.8897 - val_accuracy: 0.7424\n",
      "Epoch 48/50\n",
      "24/23 [===============================] - 21s 865ms/step - loss: 0.0712 - accuracy: 0.9771 - val_loss: 3.3284 - val_accuracy: 0.6717\n",
      "Epoch 49/50\n",
      "24/23 [===============================] - 21s 859ms/step - loss: 0.0677 - accuracy: 0.9784 - val_loss: 1.8810 - val_accuracy: 0.7424\n",
      "Epoch 50/50\n",
      "24/23 [===============================] - 21s 859ms/step - loss: 0.0819 - accuracy: 0.9717 - val_loss: 1.9013 - val_accuracy: 0.7273\n"
     ]
    },
    {
     "data": {
      "text/plain": [
       "<tensorflow.python.keras.callbacks.History at 0x162d06bb390>"
      ]
     },
     "execution_count": 10,
     "metadata": {},
     "output_type": "execute_result"
    }
   ],
   "source": [
    "cnn.fit_generator(x_train, steps_per_epoch=742/32, epochs=50, validation_data=x_test, validation_steps=198/32)"
   ]
  },
  {
   "cell_type": "markdown",
   "metadata": {},
   "source": [
    "### Saving the Model"
   ]
  },
  {
   "cell_type": "code",
   "execution_count": 11,
   "metadata": {},
   "outputs": [],
   "source": [
    "cnn.save(\"disaster.h5\")"
   ]
  }
 ],
 "metadata": {
  "kernelspec": {
   "display_name": "Python 3",
   "language": "python",
   "name": "python3"
  },
  "language_info": {
   "codemirror_mode": {
    "name": "ipython",
    "version": 3
   },
   "file_extension": ".py",
   "mimetype": "text/x-python",
   "name": "python",
   "nbconvert_exporter": "python",
   "pygments_lexer": "ipython3",
   "version": "3.7.3"
  }
 },
 "nbformat": 4,
 "nbformat_minor": 2
}
